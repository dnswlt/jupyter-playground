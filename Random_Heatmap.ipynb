{
 "cells": [
  {
   "cell_type": "code",
   "execution_count": 8,
   "metadata": {
    "collapsed": true
   },
   "outputs": [],
   "source": [
    "%matplotlib inline"
   ]
  },
  {
   "cell_type": "code",
   "execution_count": 9,
   "metadata": {
    "collapsed": true
   },
   "outputs": [],
   "source": [
    "# Standard imports\n",
    "import numpy as np\n",
    "import pandas as pd\n",
    "import matplotlib.pyplot as plt"
   ]
  },
  {
   "cell_type": "code",
   "execution_count": 10,
   "metadata": {
    "collapsed": false
   },
   "outputs": [
    {
     "data": {
      "image/png": "[encoded data removed]",
      "text/plain": [
       "<matplotlib.figure.Figure at 0x8d20128>"
      ]
     },
     "metadata": {},
     "output_type": "display_data"
    }
   ],
   "source": [
    "xs = np.random.randn(10000)\n",
    "ys = np.random.randn(10000)\n",
    "p = plt.hist2d(xs, ys, bins=50)"
   ]
  },
  {
   "cell_type": "code",
   "execution_count": 11,
   "metadata": {
    "collapsed": false
   },
   "outputs": [],
   "source": [
    "# [0..9999], drawn as 100x100 image with 'hot' colormap\n",
    "img = np.arange(10000).reshape(100, 100)"
   ]
  },
  {
   "cell_type": "code",
   "execution_count": 12,
   "metadata": {
    "collapsed": false
   },
   "outputs": [
    {
     "data": {
      "text/plain": [
       "<matplotlib.image.AxesImage at 0x962d4a8>"
      ]
     },
     "execution_count": 12,
     "metadata": {},
     "output_type": "execute_result"
    },
    {
     "data": {
      "image/png": "[encoded data removed]",
      "text/plain": [
       "<matplotlib.figure.Figure at 0x8d11cc0>"
      ]
     },
     "metadata": {},
     "output_type": "display_data"
    }
   ],
   "source": [
    "plt.imshow(img, cmap='hot')"
   ]
  },
  {
   "cell_type": "code",
   "execution_count": 13,
   "metadata": {
    "collapsed": false
   },
   "outputs": [
    {
     "data": {
      "text/plain": [
       "<matplotlib.image.AxesImage at 0x968e6d8>"
      ]
     },
     "execution_count": 13,
     "metadata": {},
     "output_type": "execute_result"
    },
    {
     "data": {
      "image/png": "[encoded data removed]",
      "text/plain": [
       "<matplotlib.figure.Figure at 0x8ff6cf8>"
      ]
     },
     "metadata": {},
     "output_type": "display_data"
    }
   ],
   "source": [
    "# PACE! Per tutto il mondo.\n",
    "plt.matshow(np.arange(100).reshape(10, 10))"
   ]
  },
  {
   "cell_type": "markdown",
   "metadata": {
    "collapsed": true
   },
   "source": [
    "WLAN Access Points"
   ]
  },
  {
   "cell_type": "code",
   "execution_count": 14,
   "metadata": {
    "collapsed": false
   },
   "outputs": [],
   "source": [
    "from collections import namedtuple\n",
    "og1 = '1. OG'\n",
    "eg = 'EG'\n",
    "AP = namedtuple('AP', ['id', 'pos', 'floor'])\n",
    "wlan_aps = [AP('bs-map-22', (320, 20), og1), AP('bs-map-07', (290, 110), og1), AP('bs-map-15', (280, 205), og1), \n",
    "           AP('bs-map-18', (300, 20), eg), AP('bs-map-17', (220, 40), eg), AP('bs-map-23', (240, 50), eg),\n",
    "           AP('bs-map-21', (300, 60), eg), AP('bs-map-01', (440, 60), eg), AP('bs-map-02', (505, 50), eg),\n",
    "           AP('bs-map-03', (150, 95), eg), AP('bs-map-04', (240, 90), eg), AP('bs-map-05', (380, 80), eg),\n",
    "           AP('bs-map-06', (440, 80), eg), AP('bs-map-08', (160, 130), eg), AP('bs-map-09', (240, 125), eg), \n",
    "           AP('bs-map-10', (380, 125), eg), AP('bs-map-11', (440, 120), eg), AP('bs-map-14', (150, 170), eg),\n",
    "           AP('bs-map-13', (240, 160), eg), AP('bs-map-12', (350, 160), eg), AP('bs-map-16', (270, 290), eg)]"
   ]
  },
  {
   "cell_type": "code",
   "execution_count": 17,
   "metadata": {
    "collapsed": false
   },
   "outputs": [
    {
     "data": {
      "text/plain": [
       "[AP(id='bs-map-18', pos=(300, 20), floor='EG'),\n",
       " AP(id='bs-map-17', pos=(220, 40), floor='EG'),\n",
       " AP(id='bs-map-23', pos=(240, 50), floor='EG'),\n",
       " AP(id='bs-map-21', pos=(300, 60), floor='EG'),\n",
       " AP(id='bs-map-01', pos=(440, 60), floor='EG'),\n",
       " AP(id='bs-map-02', pos=(505, 50), floor='EG'),\n",
       " AP(id='bs-map-03', pos=(150, 95), floor='EG'),\n",
       " AP(id='bs-map-04', pos=(240, 90), floor='EG'),\n",
       " AP(id='bs-map-05', pos=(380, 80), floor='EG'),\n",
       " AP(id='bs-map-06', pos=(440, 80), floor='EG'),\n",
       " AP(id='bs-map-08', pos=(160, 130), floor='EG'),\n",
       " AP(id='bs-map-09', pos=(240, 125), floor='EG'),\n",
       " AP(id='bs-map-10', pos=(380, 125), floor='EG'),\n",
       " AP(id='bs-map-11', pos=(440, 120), floor='EG'),\n",
       " AP(id='bs-map-14', pos=(150, 170), floor='EG'),\n",
       " AP(id='bs-map-13', pos=(240, 160), floor='EG'),\n",
       " AP(id='bs-map-12', pos=(350, 160), floor='EG'),\n",
       " AP(id='bs-map-16', pos=(270, 290), floor='EG')]"
      ]
     },
     "execution_count": 17,
     "metadata": {},
     "output_type": "execute_result"
    }
   ],
   "source": [
    "eg_aps = [ap for ap in wlan_aps if ap.floor == eg]\n",
    "eg_aps"
   ]
  },
  {
   "cell_type": "code",
   "execution_count": 24,
   "metadata": {
    "collapsed": false
   },
   "outputs": [
    {
     "data": {
      "text/plain": [
       "<matplotlib.collections.PathCollection at 0xb164278>"
      ]
     },
     "execution_count": 24,
     "metadata": {},
     "output_type": "execute_result"
    },
    {
     "data": {
      "image/png": "[encoded data removed]",
      "text/plain": [
       "<matplotlib.figure.Figure at 0xb122b00>"
      ]
     },
     "metadata": {},
     "output_type": "display_data"
    }
   ],
   "source": [
    "plt.scatter(np.asarray([ap.pos[0] for ap in eg_aps]), np.asarray([-ap.pos[1] for ap in eg_aps]))"
   ]
  },
  {
   "cell_type": "code",
   "execution_count": null,
   "metadata": {
    "collapsed": false
   },
   "outputs": [],
   "source": []
  },
  {
   "cell_type": "code",
   "execution_count": null,
   "metadata": {
    "collapsed": true
   },
   "outputs": [],
   "source": []
  }
 ],
 "metadata": {
  "kernelspec": {
   "display_name": "Python 3",
   "language": "python",
   "name": "python3"
  },
  "language_info": {
   "codemirror_mode": {
    "name": "ipython",
    "version": 3
   },
   "file_extension": ".py",
   "mimetype": "text/x-python",
   "name": "python",
   "nbconvert_exporter": "python",
   "pygments_lexer": "ipython3",
   "version": "3.5.1"
  }
 },
 "nbformat": 4,
 "nbformat_minor": 0
}
